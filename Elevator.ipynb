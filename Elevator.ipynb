{
 "cells": [
  {
   "cell_type": "code",
   "execution_count": 1,
   "metadata": {
    "extensions": {
     "jupyter_dashboards": {
      "version": 1,
      "views": {
       "grid_default": {},
       "report_default": {
        "hidden": true
       }
      }
     }
    }
   },
   "outputs": [],
   "source": [
    "import ipywidgets as widgets\n",
    "from ipywidgets import Button, Layout\n",
    "import nbinteract as nbi"
   ]
  },
  {
   "cell_type": "markdown",
   "metadata": {
    "extensions": {
     "jupyter_dashboards": {
      "version": 1,
      "views": {
       "grid_default": {},
       "report_default": {
        "hidden": false
       }
      }
     }
    }
   },
   "source": [
    "# 1. How many people we allow daily?"
   ]
  },
  {
   "cell_type": "code",
   "execution_count": 50,
   "metadata": {
    "extensions": {
     "jupyter_dashboards": {
      "version": 1,
      "views": {
       "grid_default": {},
       "report_default": {
        "hidden": false
       }
      }
     }
    }
   },
   "outputs": [
    {
     "data": {
      "application/vnd.jupyter.widget-view+json": {
       "model_id": "05959ec6e1144eb68189c2854e986144",
       "version_major": 2,
       "version_minor": 0
      },
      "text/plain": [
       "VBox(children=(BoundedIntText(value=6000, description='1. Headcount of the office of your interest', layout=La…"
      ]
     },
     "metadata": {},
     "output_type": "display_data"
    }
   ],
   "source": [
    "headcount = widgets.BoundedIntText(\n",
    "    value=6000,\n",
    "    min=0,\n",
    "    max=7000,\n",
    "    step=1,\n",
    "    description='1. Headcount of the office of your interest',\n",
    "    disabled=False,\n",
    "    continuous_update=False,\n",
    "    orientation='horizontal',\n",
    "    readout=True,\n",
    "    readout_format='d',\n",
    "    style={'description_width': 'initial', 'width': '50px'},\n",
    "    layout=Layout(width='60%')\n",
    ")\n",
    "percent = widgets.IntSlider(\n",
    "    value=20,\n",
    "    min=0,\n",
    "    max=100,\n",
    "    step=5,\n",
    "    description='2. Percentage of the people you want to allow',\n",
    "    disabled=False,\n",
    "    continuous_update=False,\n",
    "    orientation='horizontal',\n",
    "    readout=True,\n",
    "    readout_format='d',\n",
    "    style={'description_width': 'initial', 'width': '50px'},\n",
    "    layout=Layout(width='60%')\n",
    ")\n",
    "\n",
    "def f(a, b):\n",
    "    print('(I) Number of people allowed daily: {}(1)*{}%(2)={}'.format(a, b, round(a*b/100)))\n",
    "\n",
    "out = widgets.interactive_output(f, {'a': headcount, 'b': percent})\n",
    "\n",
    "widgets.VBox([headcount, percent, out])"
   ]
  },
  {
   "cell_type": "markdown",
   "metadata": {
    "extensions": {
     "jupyter_dashboards": {
      "version": 1,
      "views": {
       "grid_default": {},
       "report_default": {
        "hidden": false
       }
      }
     }
    }
   },
   "source": [
    "# 2. How many people go to 6fl in 1 min"
   ]
  },
  {
   "cell_type": "code",
   "execution_count": 51,
   "metadata": {
    "extensions": {
     "jupyter_dashboards": {
      "version": 1,
      "views": {
       "grid_default": {},
       "report_default": {
        "hidden": false
       }
      }
     }
    }
   },
   "outputs": [
    {
     "data": {
      "application/vnd.jupyter.widget-view+json": {
       "model_id": "e1f7c7d8487b4981858705b21a0dd45a",
       "version_major": 2,
       "version_minor": 0
      },
      "text/plain": [
       "VBox(children=(IntSlider(value=2, continuous_update=False, description='a. Number of people allowed in an elev…"
      ]
     },
     "metadata": {},
     "output_type": "display_data"
    }
   ],
   "source": [
    "door_open_close = 2\n",
    "ele_btw_ground_sixth = 10\n",
    "num_ele = 5\n",
    "\n",
    "ppl_in_ele = widgets.IntSlider(\n",
    "    value=2,\n",
    "    min=1,\n",
    "    max=4,\n",
    "    step=1,\n",
    "    description='a. Number of people allowed in an elevator: ',\n",
    "    disabled=False,\n",
    "    continuous_update=False,\n",
    "    orientation='horizontal',\n",
    "    readout=True,\n",
    "    readout_format='d',\n",
    "    style={'description_width': 'initial', 'width': '50px'},\n",
    "    layout=Layout(width='60%')\n",
    ")\n",
    "\n",
    "time_to_enter = widgets.IntSlider(\n",
    "    value=30,\n",
    "    min=10,\n",
    "    max=60,\n",
    "    step=1,\n",
    "    description='b. Time to enter in an elevator: ',\n",
    "    disabled=False,\n",
    "    continuous_update=False,\n",
    "    orientation='horizontal',\n",
    "    readout=True,\n",
    "    readout_format='d',\n",
    "    style={'description_width': 'initial', 'width': '50px'},\n",
    "    layout=Layout(width='60%')\n",
    ")\n",
    "\n",
    "time_to_exit = widgets.IntSlider(\n",
    "    value=20,\n",
    "    min=10,\n",
    "    max=60,\n",
    "    step=1,\n",
    "    description='c. Time to get out of an elevator on 6th floor: ',\n",
    "    disabled=False,\n",
    "    continuous_update=False,\n",
    "    orientation='horizontal',\n",
    "    readout=True,\n",
    "    readout_format='d',\n",
    "    style={'description_width': 'initial', 'width': '50px'},\n",
    "    layout=Layout(width='60%')\n",
    ")\n",
    "\n",
    "\n",
    "def f2(a, b, c):\n",
    "    pplhandled = 60/(2+a+10+b+2+10)*5*c\n",
    "    print('d. Time to open door: ' + str(door_open_close) + ' seconds'\n",
    "          + '\\ne. Travel time btw ground and 6fl: 10 seconds'\n",
    "          + '\\nf. Door closing time: 2 seconds'\n",
    "          + '\\ng. Number of elevators: 5'\n",
    "          + '\\n(II) Number of people handled in 1 min: 60/(2[d]+{}[b]+10[e]+{}[c]+2[f]+10[e])*5[g]*{}[a]= {}'.format(a, b, c, round(60/(2+a+10+b+2+10)*5*c)))\n",
    "        \n",
    "\n",
    "out = widgets.interactive_output(f2, {'a': time_to_enter, 'b': time_to_exit, 'c':ppl_in_ele})\n",
    "\n",
    "widgets.VBox([ppl_in_ele, time_to_enter, time_to_exit, out])"
   ]
  },
  {
   "cell_type": "markdown",
   "metadata": {
    "extensions": {
     "jupyter_dashboards": {
      "version": 1,
      "views": {
       "grid_default": {},
       "report_default": {
        "hidden": false
       }
      }
     }
    }
   },
   "source": [
    "# 3. How long is the wait time?"
   ]
  },
  {
   "cell_type": "code",
   "execution_count": 52,
   "metadata": {
    "extensions": {
     "jupyter_dashboards": {
      "version": 1,
      "views": {
       "grid_default": {},
       "report_default": {
        "hidden": false
       }
      }
     }
    }
   },
   "outputs": [
    {
     "data": {
      "application/vnd.jupyter.widget-view+json": {
       "model_id": "cf0ed7edf7124ab4b10dfc8efd790ecb",
       "version_major": 2,
       "version_minor": 0
      },
      "text/plain": [
       "VBox(children=(IntSlider(value=30, continuous_update=False, description='a. Time interval: ', layout=Layout(wi…"
      ]
     },
     "metadata": {},
     "output_type": "display_data"
    }
   ],
   "source": [
    "interval = widgets.IntSlider(\n",
    "    value=30,\n",
    "    min=15,\n",
    "    max=30,\n",
    "    step=15,\n",
    "    description='a. Time interval: ',\n",
    "    disabled=False,\n",
    "    continuous_update=False,\n",
    "    orientation='horizontal',\n",
    "    readout=True,\n",
    "    readout_format='d',\n",
    "    style={'description_width': 'initial', 'width': '50px'},\n",
    "    layout=Layout(width='60%')\n",
    ")\n",
    "\n",
    "time_to_enter = widgets.IntSlider(\n",
    "    value=30,\n",
    "    min=10,\n",
    "    max=60,\n",
    "    step=1,\n",
    "    description='b. Time to enter in an elevator: ',\n",
    "    disabled=False,\n",
    "    continuous_update=False,\n",
    "    orientation='horizontal',\n",
    "    readout=True,\n",
    "    readout_format='d',\n",
    "    style={'description_width': 'initial', 'width': '50px'},\n",
    "    layout=Layout(width='60%')\n",
    ")\n",
    "\n",
    "time_to_exit = widgets.IntSlider(\n",
    "    value=20,\n",
    "    min=10,\n",
    "    max=60,\n",
    "    step=1,\n",
    "    description='c. Time to get out of an elevator on 6th floor: ',\n",
    "    disabled=False,\n",
    "    continuous_update=False,\n",
    "    orientation='horizontal',\n",
    "    readout=True,\n",
    "    readout_format='d',\n",
    "    style={'description_width': 'initial', 'width': '50px'},\n",
    "    layout=Layout(width='60%')\n",
    ")\n",
    "\n",
    "\n",
    "def f3(a,b,c,d,e,f):\n",
    "    num_intervals = round(60/a*3)\n",
    "    num_ppl_daily = round(b*c/100)\n",
    "    num_ppl_per_interval = num_ppl_daily/num_intervals\n",
    "    num_ppl_handled_in_1min = round(60/(2+d+10+e+2+10)*5*f)\n",
    "    num_ppl_to6_per_interval = a*num_ppl_handled_in_1min\n",
    "    queue_growing_per_interval = num_ppl_per_interval - num_ppl_to6_per_interval\n",
    "    queue_size = queue_growing_per_interval * num_intervals\n",
    "    wait_time = queue_size / num_ppl_handled_in_1min\n",
    "    print('b. Number of intervals : 60/{}(a)*3(7am-10am) = {}'.format(a,num_intervals)\n",
    "          + '\\nc. Number of peoples allowed per interval: {}(I) / {}(b) = {}'.format(num_ppl_daily,num_intervals,num_ppl_per_interval)\n",
    "          + '\\n Wait time: {} mins'.format(wait_time))\n",
    "        \n",
    "\n",
    "out3 = widgets.interactive_output(f3, {'a': interval, 'b': headcount, 'c': percent, 'd': time_to_enter, 'e': time_to_exit, 'f':ppl_in_ele})\n",
    "\n",
    "\n",
    "\n",
    "widgets.VBox([interval, out3])"
   ]
  }
 ],
 "metadata": {
  "extensions": {
   "jupyter_dashboards": {
    "activeView": "report_default",
    "version": 1,
    "views": {
     "grid_default": {
      "cellMargin": 10,
      "defaultCellHeight": 20,
      "maxColumns": 12,
      "name": "grid",
      "type": "grid"
     },
     "report_default": {
      "name": "report",
      "type": "report"
     }
    }
   }
  },
  "kernelspec": {
   "display_name": "Python 3",
   "language": "python",
   "name": "python3"
  },
  "language_info": {
   "codemirror_mode": {
    "name": "ipython",
    "version": 3
   },
   "file_extension": ".py",
   "mimetype": "text/x-python",
   "name": "python",
   "nbconvert_exporter": "python",
   "pygments_lexer": "ipython3",
   "version": "3.7.3"
  },
  "widgets": {
   "application/vnd.jupyter.widget-state+json": {
    "state": {
     "019118e70d6f4896b6efc4b6472f6311": {
      "model_module": "@jupyter-widgets/base",
      "model_module_version": "1.1.0",
      "model_name": "LayoutModel",
      "state": {}
     },
     "04f8e2509e384814a7ceb9f9377e948a": {
      "model_module": "@jupyter-widgets/base",
      "model_module_version": "1.1.0",
      "model_name": "LayoutModel",
      "state": {}
     },
     "0fdab017259d4a1fb42692b10732ca94": {
      "model_module": "@jupyter-widgets/base",
      "model_module_version": "1.1.0",
      "model_name": "LayoutModel",
      "state": {}
     },
     "18287a43f3aa4b91864718056b8f07fd": {
      "model_module": "@jupyter-widgets/controls",
      "model_module_version": "1.4.0",
      "model_name": "SliderStyleModel",
      "state": {
       "description_width": ""
      }
     },
     "1dfdbd21a96b43b298142a50a48ac113": {
      "model_module": "@jupyter-widgets/controls",
      "model_module_version": "1.4.0",
      "model_name": "IntSliderModel",
      "state": {
       "description": "how many people in an elevator?",
       "layout": "IPY_MODEL_4601955b7e1a4daf85d199ccc2747e0b",
       "max": 4,
       "style": "IPY_MODEL_9fdaae70454b436f9b727dfa090ea363",
       "value": 2
      }
     },
     "2690656546734ca3b1fead48b77fddbe": {
      "model_module": "@jupyter-widgets/base",
      "model_module_version": "1.1.0",
      "model_name": "LayoutModel",
      "state": {}
     },
     "2effff3af96c4f4dbe0024ef058acf62": {
      "model_module": "@jupyter-widgets/controls",
      "model_module_version": "1.4.0",
      "model_name": "SliderStyleModel",
      "state": {
       "description_width": ""
      }
     },
     "2f81f29996664ed49535aa9c5bc8d58a": {
      "model_module": "@jupyter-widgets/base",
      "model_module_version": "1.1.0",
      "model_name": "LayoutModel",
      "state": {}
     },
     "32b911e282144899b7df0127e9710733": {
      "model_module": "@jupyter-widgets/base",
      "model_module_version": "1.1.0",
      "model_name": "LayoutModel",
      "state": {}
     },
     "374631d832954c74bd919428cbdd4ea3": {
      "model_module": "@jupyter-widgets/controls",
      "model_module_version": "1.4.0",
      "model_name": "SliderStyleModel",
      "state": {
       "description_width": "initial"
      }
     },
     "3c16e24d3ee045e986fc3d26822884b4": {
      "model_module": "@jupyter-widgets/base",
      "model_module_version": "1.1.0",
      "model_name": "LayoutModel",
      "state": {}
     },
     "3e8a36d54cbf4804875ef6e3f6adb3e8": {
      "model_module": "@jupyter-widgets/controls",
      "model_module_version": "1.4.0",
      "model_name": "IntSliderModel",
      "state": {
       "description": "c",
       "layout": "IPY_MODEL_8586261d7c2d4b02997e7cd7edc78535",
       "style": "IPY_MODEL_d2b0a026a13e4a54a2edbd90ed29b1ff"
      }
     },
     "406ed7af0e26418498889223d22ee30f": {
      "model_module": "@jupyter-widgets/base",
      "model_module_version": "1.1.0",
      "model_name": "LayoutModel",
      "state": {}
     },
     "4137803af0be4d19ac3505e7876d03d5": {
      "model_module": "@jupyter-widgets/base",
      "model_module_version": "1.1.0",
      "model_name": "LayoutModel",
      "state": {}
     },
     "4237737debe149599c156b210340636d": {
      "model_module": "@jupyter-widgets/controls",
      "model_module_version": "1.4.0",
      "model_name": "IntSliderModel",
      "state": {
       "description": "b",
       "layout": "IPY_MODEL_899c661399964da499c517bb6514baad",
       "style": "IPY_MODEL_67fae38a1114445e8871e172e71d6433"
      }
     },
     "458280edf0224b2c941e44cb92c59937": {
      "model_module": "@jupyter-widgets/base",
      "model_module_version": "1.1.0",
      "model_name": "LayoutModel",
      "state": {}
     },
     "4601955b7e1a4daf85d199ccc2747e0b": {
      "model_module": "@jupyter-widgets/base",
      "model_module_version": "1.1.0",
      "model_name": "LayoutModel",
      "state": {}
     },
     "4b5ad392e87e402e932ed8fe58af2aa9": {
      "model_module": "@jupyter-widgets/base",
      "model_module_version": "1.1.0",
      "model_name": "LayoutModel",
      "state": {}
     },
     "4b6a2b6a051b403093e9e0dcf2f4a09f": {
      "model_module": "@jupyter-widgets/controls",
      "model_module_version": "1.4.0",
      "model_name": "SliderStyleModel",
      "state": {
       "description_width": ""
      }
     },
     "4c74fdaf4eea4031b9ea24df89fc8902": {
      "model_module": "@jupyter-widgets/base",
      "model_module_version": "1.1.0",
      "model_name": "LayoutModel",
      "state": {}
     },
     "4cb5b18765f847c4a8b2d791466044d6": {
      "model_module": "@jupyter-widgets/base",
      "model_module_version": "1.1.0",
      "model_name": "LayoutModel",
      "state": {}
     },
     "4d86b71c05a54cf1a6ce33e573f2162d": {
      "model_module": "@jupyter-widgets/controls",
      "model_module_version": "1.4.0",
      "model_name": "IntSliderModel",
      "state": {
       "description": "b",
       "layout": "IPY_MODEL_b2b6ba67be9f40c39d4b2907178e042b",
       "style": "IPY_MODEL_c8534b53a432439e8affd2ed579d5628"
      }
     },
     "5916dabd9be74a2185fc342935d611bf": {
      "model_module": "@jupyter-widgets/controls",
      "model_module_version": "1.4.0",
      "model_name": "IntSliderModel",
      "state": {
       "continuous_update": false,
       "description": "how many people in elevator?",
       "layout": "IPY_MODEL_d36e6ef14b9c4e0aa688ff2985cdeaa7",
       "max": 10,
       "style": "IPY_MODEL_374631d832954c74bd919428cbdd4ea3",
       "value": 4
      }
     },
     "5d074dc012634004bc9b8156ba151787": {
      "model_module": "@jupyter-widgets/base",
      "model_module_version": "1.1.0",
      "model_name": "LayoutModel",
      "state": {}
     },
     "5d9e659f4674451d89bc222f3de1bc3c": {
      "model_module": "@jupyter-widgets/controls",
      "model_module_version": "1.4.0",
      "model_name": "SliderStyleModel",
      "state": {
       "description_width": ""
      }
     },
     "5dc67f77f7c14690a48c3327dd04bc67": {
      "model_module": "@jupyter-widgets/controls",
      "model_module_version": "1.4.0",
      "model_name": "IntSliderModel",
      "state": {
       "continuous_update": false,
       "description": "Test:",
       "layout": "IPY_MODEL_4137803af0be4d19ac3505e7876d03d5",
       "max": 10,
       "style": "IPY_MODEL_5d9e659f4674451d89bc222f3de1bc3c",
       "value": 10
      }
     },
     "64e18fef655647f091509ee533b93ac7": {
      "model_module": "@jupyter-widgets/controls",
      "model_module_version": "1.4.0",
      "model_name": "IntSliderModel",
      "state": {
       "continuous_update": false,
       "description": "how many people in elevator?",
       "layout": "IPY_MODEL_bca527723b09496fbb88027f62ce3bff",
       "max": 10,
       "style": "IPY_MODEL_2effff3af96c4f4dbe0024ef058acf62",
       "value": 7
      }
     },
     "66968aa0b9ac4d57baeed8417cf6dfe8": {
      "model_module": "@jupyter-widgets/base",
      "model_module_version": "1.1.0",
      "model_name": "LayoutModel",
      "state": {}
     },
     "67fae38a1114445e8871e172e71d6433": {
      "model_module": "@jupyter-widgets/controls",
      "model_module_version": "1.4.0",
      "model_name": "SliderStyleModel",
      "state": {
       "description_width": ""
      }
     },
     "6e946a42eb6a461781c2a4acecc62b6c": {
      "model_module": "@jupyter-widgets/controls",
      "model_module_version": "1.4.0",
      "model_name": "HBoxModel",
      "state": {
       "children": [
        "IPY_MODEL_c81e75e11df145e9bf86ebc7ce8818a8",
        "IPY_MODEL_d6445981d59942cfa657f3cc036511b3"
       ],
       "layout": "IPY_MODEL_2690656546734ca3b1fead48b77fddbe"
      }
     },
     "6efeb0f04af447c1b08f8705390d5476": {
      "model_module": "@jupyter-widgets/controls",
      "model_module_version": "1.4.0",
      "model_name": "IntSliderModel",
      "state": {
       "continuous_update": false,
       "description": "how many people in elevator?",
       "layout": "IPY_MODEL_f9c95796629b4132a41f4045efab9261",
       "max": 10,
       "style": "IPY_MODEL_7053b56b60184bf2be9ad52db41d47af",
       "value": 7
      }
     },
     "7053b56b60184bf2be9ad52db41d47af": {
      "model_module": "@jupyter-widgets/controls",
      "model_module_version": "1.4.0",
      "model_name": "SliderStyleModel",
      "state": {
       "description_width": ""
      }
     },
     "72d39af4d41f48e1a97a2af957074b8e": {
      "model_module": "@jupyter-widgets/base",
      "model_module_version": "1.1.0",
      "model_name": "LayoutModel",
      "state": {}
     },
     "7853dc5f97f74a7aa999a22469d2c57f": {
      "model_module": "@jupyter-widgets/controls",
      "model_module_version": "1.4.0",
      "model_name": "IntSliderModel",
      "state": {
       "description": "a",
       "layout": "IPY_MODEL_72d39af4d41f48e1a97a2af957074b8e",
       "style": "IPY_MODEL_18287a43f3aa4b91864718056b8f07fd"
      }
     },
     "8346813ac25843aa9a6ba0d82004c64c": {
      "model_module": "@jupyter-widgets/controls",
      "model_module_version": "1.4.0",
      "model_name": "SliderStyleModel",
      "state": {
       "description_width": ""
      }
     },
     "8586261d7c2d4b02997e7cd7edc78535": {
      "model_module": "@jupyter-widgets/base",
      "model_module_version": "1.1.0",
      "model_name": "LayoutModel",
      "state": {}
     },
     "88321ddc8a5e48a4974ee60e2ba5263b": {
      "model_module": "@jupyter-widgets/output",
      "model_module_version": "1.0.0",
      "model_name": "OutputModel",
      "state": {
       "layout": "IPY_MODEL_406ed7af0e26418498889223d22ee30f",
       "outputs": [
        {
         "name": "stdout",
         "output_type": "stream",
         "text": "0*36*51=0\n"
        }
       ]
      }
     },
     "899c661399964da499c517bb6514baad": {
      "model_module": "@jupyter-widgets/base",
      "model_module_version": "1.1.0",
      "model_name": "LayoutModel",
      "state": {}
     },
     "9216223aeaac4959af4a597cf3a3a878": {
      "model_module": "@jupyter-widgets/controls",
      "model_module_version": "1.4.0",
      "model_name": "SliderStyleModel",
      "state": {
       "description_width": ""
      }
     },
     "92fcfdf884d740f4bb2fe6a5f7a0c75f": {
      "model_module": "@jupyter-widgets/controls",
      "model_module_version": "1.4.0",
      "model_name": "VBoxModel",
      "state": {
       "children": [
        "IPY_MODEL_1dfdbd21a96b43b298142a50a48ac113",
        "IPY_MODEL_4237737debe149599c156b210340636d",
        "IPY_MODEL_f3cc8e087b884ce4863d2fbafb5d28cc"
       ],
       "layout": "IPY_MODEL_4cb5b18765f847c4a8b2d791466044d6"
      }
     },
     "930135075ce44f748ea1673257723651": {
      "model_module": "@jupyter-widgets/output",
      "model_module_version": "1.0.0",
      "model_name": "OutputModel",
      "state": {
       "layout": "IPY_MODEL_a7a9365dfdc94b32a1e58fc75aff302b",
       "outputs": [
        {
         "name": "stdout",
         "output_type": "stream",
         "text": "2*0*0=0\n"
        }
       ]
      }
     },
     "9a1c0c053d814e3598246aa7c793a509": {
      "model_module": "@jupyter-widgets/controls",
      "model_module_version": "1.4.0",
      "model_name": "SliderStyleModel",
      "state": {
       "description_width": ""
      }
     },
     "9fdaae70454b436f9b727dfa090ea363": {
      "model_module": "@jupyter-widgets/controls",
      "model_module_version": "1.4.0",
      "model_name": "SliderStyleModel",
      "state": {
       "description_width": ""
      }
     },
     "a2ee6737b1b04ba8a8c99c371dd65d34": {
      "model_module": "@jupyter-widgets/controls",
      "model_module_version": "1.4.0",
      "model_name": "HBoxModel",
      "state": {
       "children": [
        "IPY_MODEL_92fcfdf884d740f4bb2fe6a5f7a0c75f",
        "IPY_MODEL_930135075ce44f748ea1673257723651"
       ],
       "layout": "IPY_MODEL_66968aa0b9ac4d57baeed8417cf6dfe8"
      }
     },
     "a6ccd7eb18d148aaaf70b56bac88fe3e": {
      "model_module": "@jupyter-widgets/controls",
      "model_module_version": "1.4.0",
      "model_name": "HBoxModel",
      "state": {
       "children": [
        "IPY_MODEL_d156da1aa8ff447f90b09e1658b88c9d",
        "IPY_MODEL_88321ddc8a5e48a4974ee60e2ba5263b"
       ],
       "layout": "IPY_MODEL_0fdab017259d4a1fb42692b10732ca94"
      }
     },
     "a7a9365dfdc94b32a1e58fc75aff302b": {
      "model_module": "@jupyter-widgets/base",
      "model_module_version": "1.1.0",
      "model_name": "LayoutModel",
      "state": {}
     },
     "ab2e55a7ed354b05b25506f398dd2e68": {
      "model_module": "@jupyter-widgets/controls",
      "model_module_version": "1.4.0",
      "model_name": "SliderStyleModel",
      "state": {
       "description_width": ""
      }
     },
     "ab93d6f60724418fa2f1a1670dbd812c": {
      "model_module": "@jupyter-widgets/controls",
      "model_module_version": "1.4.0",
      "model_name": "SliderStyleModel",
      "state": {
       "description_width": ""
      }
     },
     "b2b6ba67be9f40c39d4b2907178e042b": {
      "model_module": "@jupyter-widgets/base",
      "model_module_version": "1.1.0",
      "model_name": "LayoutModel",
      "state": {}
     },
     "b304e05c01bd47be8a453cf510e2e59d": {
      "model_module": "@jupyter-widgets/controls",
      "model_module_version": "1.4.0",
      "model_name": "IntSliderModel",
      "state": {
       "description": "c",
       "layout": "IPY_MODEL_f0a3dddb01cd41b3b8f79550b9479b96",
       "style": "IPY_MODEL_9216223aeaac4959af4a597cf3a3a878",
       "value": 51
      }
     },
     "b9ddf72fa4b3484ba867cf7421f1259c": {
      "model_module": "@jupyter-widgets/controls",
      "model_module_version": "1.4.0",
      "model_name": "IntSliderModel",
      "state": {
       "description": "how many people in an elevator?",
       "layout": "IPY_MODEL_5d074dc012634004bc9b8156ba151787",
       "style": "IPY_MODEL_ab93d6f60724418fa2f1a1670dbd812c"
      }
     },
     "bca527723b09496fbb88027f62ce3bff": {
      "model_module": "@jupyter-widgets/base",
      "model_module_version": "1.1.0",
      "model_name": "LayoutModel",
      "state": {
       "height": "80px",
       "width": "50%"
      }
     },
     "c81e75e11df145e9bf86ebc7ce8818a8": {
      "model_module": "@jupyter-widgets/controls",
      "model_module_version": "1.4.0",
      "model_name": "VBoxModel",
      "state": {
       "children": [
        "IPY_MODEL_b9ddf72fa4b3484ba867cf7421f1259c",
        "IPY_MODEL_4d86b71c05a54cf1a6ce33e573f2162d",
        "IPY_MODEL_3e8a36d54cbf4804875ef6e3f6adb3e8"
       ],
       "layout": "IPY_MODEL_32b911e282144899b7df0127e9710733"
      }
     },
     "c8534b53a432439e8affd2ed579d5628": {
      "model_module": "@jupyter-widgets/controls",
      "model_module_version": "1.4.0",
      "model_name": "SliderStyleModel",
      "state": {
       "description_width": ""
      }
     },
     "ca965d1e26eb4467b6edaca1261e6576": {
      "model_module": "@jupyter-widgets/controls",
      "model_module_version": "1.4.0",
      "model_name": "SliderStyleModel",
      "state": {
       "description_width": ""
      }
     },
     "d156da1aa8ff447f90b09e1658b88c9d": {
      "model_module": "@jupyter-widgets/controls",
      "model_module_version": "1.4.0",
      "model_name": "VBoxModel",
      "state": {
       "children": [
        "IPY_MODEL_7853dc5f97f74a7aa999a22469d2c57f",
        "IPY_MODEL_f31d1999c4724d57a6d2f8bcbd43fd78",
        "IPY_MODEL_b304e05c01bd47be8a453cf510e2e59d"
       ],
       "layout": "IPY_MODEL_04f8e2509e384814a7ceb9f9377e948a"
      }
     },
     "d2b0a026a13e4a54a2edbd90ed29b1ff": {
      "model_module": "@jupyter-widgets/controls",
      "model_module_version": "1.4.0",
      "model_name": "SliderStyleModel",
      "state": {
       "description_width": ""
      }
     },
     "d36e6ef14b9c4e0aa688ff2985cdeaa7": {
      "model_module": "@jupyter-widgets/base",
      "model_module_version": "1.1.0",
      "model_name": "LayoutModel",
      "state": {
       "height": "80px",
       "width": "50%"
      }
     },
     "d6445981d59942cfa657f3cc036511b3": {
      "model_module": "@jupyter-widgets/output",
      "model_module_version": "1.0.0",
      "model_name": "OutputModel",
      "state": {
       "layout": "IPY_MODEL_458280edf0224b2c941e44cb92c59937",
       "outputs": [
        {
         "name": "stdout",
         "output_type": "stream",
         "text": "0*0*0=0\n"
        }
       ]
      }
     },
     "e4685886023641e8a016c5118f61fde2": {
      "model_module": "@jupyter-widgets/controls",
      "model_module_version": "1.4.0",
      "model_name": "IntSliderModel",
      "state": {
       "continuous_update": false,
       "description": "how many people in elevator?",
       "layout": "IPY_MODEL_4c74fdaf4eea4031b9ea24df89fc8902",
       "max": 4,
       "style": "IPY_MODEL_8346813ac25843aa9a6ba0d82004c64c",
       "value": 4
      }
     },
     "e52a182d7cbf4c068ee1608901a1002b": {
      "model_module": "@jupyter-widgets/controls",
      "model_module_version": "1.4.0",
      "model_name": "IntSliderModel",
      "state": {
       "continuous_update": false,
       "description": "how many people in elevator?",
       "layout": "IPY_MODEL_2f81f29996664ed49535aa9c5bc8d58a",
       "max": 4,
       "style": "IPY_MODEL_ab2e55a7ed354b05b25506f398dd2e68",
       "value": 4
      }
     },
     "edec02cf41144eaf9c9a8b9d579c59b6": {
      "model_module": "@jupyter-widgets/controls",
      "model_module_version": "1.4.0",
      "model_name": "IntSliderModel",
      "state": {
       "continuous_update": false,
       "description": "how many people in elevator?",
       "layout": "IPY_MODEL_4b5ad392e87e402e932ed8fe58af2aa9",
       "max": 4,
       "style": "IPY_MODEL_9a1c0c053d814e3598246aa7c793a509",
       "value": 4
      }
     },
     "f0a3dddb01cd41b3b8f79550b9479b96": {
      "model_module": "@jupyter-widgets/base",
      "model_module_version": "1.1.0",
      "model_name": "LayoutModel",
      "state": {}
     },
     "f31d1999c4724d57a6d2f8bcbd43fd78": {
      "model_module": "@jupyter-widgets/controls",
      "model_module_version": "1.4.0",
      "model_name": "IntSliderModel",
      "state": {
       "description": "b",
       "layout": "IPY_MODEL_3c16e24d3ee045e986fc3d26822884b4",
       "style": "IPY_MODEL_ca965d1e26eb4467b6edaca1261e6576",
       "value": 36
      }
     },
     "f3cc8e087b884ce4863d2fbafb5d28cc": {
      "model_module": "@jupyter-widgets/controls",
      "model_module_version": "1.4.0",
      "model_name": "IntSliderModel",
      "state": {
       "description": "c",
       "layout": "IPY_MODEL_019118e70d6f4896b6efc4b6472f6311",
       "style": "IPY_MODEL_4b6a2b6a051b403093e9e0dcf2f4a09f"
      }
     },
     "f9c95796629b4132a41f4045efab9261": {
      "model_module": "@jupyter-widgets/base",
      "model_module_version": "1.1.0",
      "model_name": "LayoutModel",
      "state": {}
     }
    },
    "version_major": 2,
    "version_minor": 0
   }
  }
 },
 "nbformat": 4,
 "nbformat_minor": 2
}
